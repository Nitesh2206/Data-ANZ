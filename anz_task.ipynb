{
  "nbformat": 4,
  "nbformat_minor": 0,
  "metadata": {
    "colab": {
      "name": "anz_task.ipynb",
      "provenance": [],
      "collapsed_sections": [
        "d9tEcFQu_pIY",
        "98zRuCmj_1a4"
      ],
      "mount_file_id": "1Pacb63vSTYOpQW5MetDHCrrcQVc4KCEr",
      "authorship_tag": "ABX9TyOYhrTuOE5Yk0FESncs4a4M",
      "include_colab_link": true
    },
    "kernelspec": {
      "name": "python3",
      "display_name": "Python 3"
    }
  },
  "cells": [
    {
      "cell_type": "markdown",
      "metadata": {
        "id": "view-in-github",
        "colab_type": "text"
      },
      "source": [
        "<a href=\"https://colab.research.google.com/github/Nitesh2206/Data-ANZ/blob/master/anz_task.ipynb\" target=\"_parent\"><img src=\"https://colab.research.google.com/assets/colab-badge.svg\" alt=\"Open In Colab\"/></a>"
      ]
    },
    {
      "cell_type": "markdown",
      "metadata": {
        "id": "d9tEcFQu_pIY",
        "colab_type": "text"
      },
      "source": [
        "#Task 1"
      ]
    },
    {
      "cell_type": "markdown",
      "metadata": {
        "id": "Jkqs3tH9ajkv",
        "colab_type": "text"
      },
      "source": [
        "## 1. Importing Libraries"
      ]
    },
    {
      "cell_type": "code",
      "metadata": {
        "id": "FJutfa04GAea",
        "colab_type": "code",
        "colab": {
          "base_uri": "https://localhost:8080/",
          "height": 255
        },
        "outputId": "3b501afb-e15f-4c08-996e-2bf875269588"
      },
      "source": [
        "pip install geopandas"
      ],
      "execution_count": null,
      "outputs": [
        {
          "output_type": "stream",
          "text": [
            "Requirement already satisfied: geopandas in /usr/local/lib/python3.6/dist-packages (0.8.1)\n",
            "Requirement already satisfied: pandas>=0.23.0 in /usr/local/lib/python3.6/dist-packages (from geopandas) (1.0.5)\n",
            "Requirement already satisfied: pyproj>=2.2.0 in /usr/local/lib/python3.6/dist-packages (from geopandas) (2.6.1.post1)\n",
            "Requirement already satisfied: fiona in /usr/local/lib/python3.6/dist-packages (from geopandas) (1.8.13.post1)\n",
            "Requirement already satisfied: shapely in /usr/local/lib/python3.6/dist-packages (from geopandas) (1.7.0)\n",
            "Requirement already satisfied: numpy>=1.13.3 in /usr/local/lib/python3.6/dist-packages (from pandas>=0.23.0->geopandas) (1.18.5)\n",
            "Requirement already satisfied: python-dateutil>=2.6.1 in /usr/local/lib/python3.6/dist-packages (from pandas>=0.23.0->geopandas) (2.8.1)\n",
            "Requirement already satisfied: pytz>=2017.2 in /usr/local/lib/python3.6/dist-packages (from pandas>=0.23.0->geopandas) (2018.9)\n",
            "Requirement already satisfied: attrs>=17 in /usr/local/lib/python3.6/dist-packages (from fiona->geopandas) (19.3.0)\n",
            "Requirement already satisfied: munch in /usr/local/lib/python3.6/dist-packages (from fiona->geopandas) (2.5.0)\n",
            "Requirement already satisfied: six>=1.7 in /usr/local/lib/python3.6/dist-packages (from fiona->geopandas) (1.15.0)\n",
            "Requirement already satisfied: click-plugins>=1.0 in /usr/local/lib/python3.6/dist-packages (from fiona->geopandas) (1.1.1)\n",
            "Requirement already satisfied: cligj>=0.5 in /usr/local/lib/python3.6/dist-packages (from fiona->geopandas) (0.5.0)\n",
            "Requirement already satisfied: click<8,>=4.0 in /usr/local/lib/python3.6/dist-packages (from fiona->geopandas) (7.1.2)\n"
          ],
          "name": "stdout"
        }
      ]
    },
    {
      "cell_type": "code",
      "metadata": {
        "id": "HBL09RQ10YKO",
        "colab_type": "code",
        "colab": {
          "base_uri": "https://localhost:8080/",
          "height": 71
        },
        "outputId": "f6dc98bc-c7a1-4f29-b2cf-9a716506d913"
      },
      "source": [
        "import pandas as pd\n",
        "import numpy as np\n",
        "import matplotlib.pyplot as plt\n",
        "import seaborn as sns\n",
        "import math\n",
        "from shapely.geometry import Point,Polygon\n",
        "import geopandas as gpd\n",
        "from geopandas import GeoDataFrame\n",
        "from sklearn.model_selection import train_test_split \n",
        "from sklearn.linear_model import LinearRegression\n",
        "from sklearn import metrics\n",
        "from sklearn.metrics import mean_squared_error\n",
        "from sklearn import tree\n",
        "from sklearn.tree import DecisionTreeRegressor\n",
        "from sklearn.model_selection import GridSearchCV\n",
        "sns.mpl.rc(\"figure\", figsize=(10,6))\n",
        "pd.set_option('display.max_columns', None)\n",
        "pd.set_option('display.max_rows', 100)"
      ],
      "execution_count": null,
      "outputs": [
        {
          "output_type": "stream",
          "text": [
            "/usr/local/lib/python3.6/dist-packages/statsmodels/tools/_testing.py:19: FutureWarning: pandas.util.testing is deprecated. Use the functions in the public API at pandas.testing instead.\n",
            "  import pandas.util.testing as tm\n"
          ],
          "name": "stderr"
        }
      ]
    },
    {
      "cell_type": "markdown",
      "metadata": {
        "id": "JA5WIeoIatJ-",
        "colab_type": "text"
      },
      "source": [
        "## 2. Data Description and Pre-processing"
      ]
    },
    {
      "cell_type": "code",
      "metadata": {
        "id": "1S5_s_VC2ztU",
        "colab_type": "code",
        "colab": {
          "base_uri": "https://localhost:8080/",
          "height": 34
        },
        "outputId": "8f0457a9-0deb-4096-fb43-5fc2619c41e6"
      },
      "source": [
        "df_transaction = pd.read_excel(\"drive/My Drive/anztask1/ANZ synthesised transaction dataset.xlsx\")\n",
        "df_transaction.shape"
      ],
      "execution_count": null,
      "outputs": [
        {
          "output_type": "execute_result",
          "data": {
            "text/plain": [
              "(12043, 23)"
            ]
          },
          "metadata": {
            "tags": []
          },
          "execution_count": 3
        }
      ]
    },
    {
      "cell_type": "code",
      "metadata": {
        "id": "51NzHfkk2860",
        "colab_type": "code",
        "colab": {
          "base_uri": "https://localhost:8080/",
          "height": 527
        },
        "outputId": "8ee24c24-8a2c-45b4-d32a-53da23716173"
      },
      "source": [
        "df_transaction.info()"
      ],
      "execution_count": null,
      "outputs": [
        {
          "output_type": "stream",
          "text": [
            "<class 'pandas.core.frame.DataFrame'>\n",
            "RangeIndex: 12043 entries, 0 to 12042\n",
            "Data columns (total 23 columns):\n",
            " #   Column             Non-Null Count  Dtype         \n",
            "---  ------             --------------  -----         \n",
            " 0   status             12043 non-null  object        \n",
            " 1   card_present_flag  7717 non-null   float64       \n",
            " 2   bpay_biller_code   885 non-null    object        \n",
            " 3   account            12043 non-null  object        \n",
            " 4   currency           12043 non-null  object        \n",
            " 5   long_lat           12043 non-null  object        \n",
            " 6   txn_description    12043 non-null  object        \n",
            " 7   merchant_id        7717 non-null   object        \n",
            " 8   merchant_code      883 non-null    float64       \n",
            " 9   first_name         12043 non-null  object        \n",
            " 10  balance            12043 non-null  float64       \n",
            " 11  date               12043 non-null  datetime64[ns]\n",
            " 12  gender             12043 non-null  object        \n",
            " 13  age                12043 non-null  int64         \n",
            " 14  merchant_suburb    7717 non-null   object        \n",
            " 15  merchant_state     7717 non-null   object        \n",
            " 16  extraction         12043 non-null  object        \n",
            " 17  amount             12043 non-null  float64       \n",
            " 18  transaction_id     12043 non-null  object        \n",
            " 19  country            12043 non-null  object        \n",
            " 20  customer_id        12043 non-null  object        \n",
            " 21  merchant_long_lat  7717 non-null   object        \n",
            " 22  movement           12043 non-null  object        \n",
            "dtypes: datetime64[ns](1), float64(4), int64(1), object(17)\n",
            "memory usage: 2.1+ MB\n"
          ],
          "name": "stdout"
        }
      ]
    },
    {
      "cell_type": "code",
      "metadata": {
        "id": "13jc_qCl3bhl",
        "colab_type": "code",
        "colab": {
          "base_uri": "https://localhost:8080/",
          "height": 297
        },
        "outputId": "ed414aad-605e-45ad-ed98-2422aa8d03b5"
      },
      "source": [
        "df_transaction.describe()"
      ],
      "execution_count": null,
      "outputs": [
        {
          "output_type": "execute_result",
          "data": {
            "text/html": [
              "<div>\n",
              "<style scoped>\n",
              "    .dataframe tbody tr th:only-of-type {\n",
              "        vertical-align: middle;\n",
              "    }\n",
              "\n",
              "    .dataframe tbody tr th {\n",
              "        vertical-align: top;\n",
              "    }\n",
              "\n",
              "    .dataframe thead th {\n",
              "        text-align: right;\n",
              "    }\n",
              "</style>\n",
              "<table border=\"1\" class=\"dataframe\">\n",
              "  <thead>\n",
              "    <tr style=\"text-align: right;\">\n",
              "      <th></th>\n",
              "      <th>card_present_flag</th>\n",
              "      <th>merchant_code</th>\n",
              "      <th>balance</th>\n",
              "      <th>age</th>\n",
              "      <th>amount</th>\n",
              "    </tr>\n",
              "  </thead>\n",
              "  <tbody>\n",
              "    <tr>\n",
              "      <th>count</th>\n",
              "      <td>7717.000000</td>\n",
              "      <td>883.0</td>\n",
              "      <td>12043.000000</td>\n",
              "      <td>12043.000000</td>\n",
              "      <td>12043.000000</td>\n",
              "    </tr>\n",
              "    <tr>\n",
              "      <th>mean</th>\n",
              "      <td>0.802644</td>\n",
              "      <td>0.0</td>\n",
              "      <td>14704.195553</td>\n",
              "      <td>30.582330</td>\n",
              "      <td>187.933588</td>\n",
              "    </tr>\n",
              "    <tr>\n",
              "      <th>std</th>\n",
              "      <td>0.398029</td>\n",
              "      <td>0.0</td>\n",
              "      <td>31503.722652</td>\n",
              "      <td>10.046343</td>\n",
              "      <td>592.599934</td>\n",
              "    </tr>\n",
              "    <tr>\n",
              "      <th>min</th>\n",
              "      <td>0.000000</td>\n",
              "      <td>0.0</td>\n",
              "      <td>0.240000</td>\n",
              "      <td>18.000000</td>\n",
              "      <td>0.100000</td>\n",
              "    </tr>\n",
              "    <tr>\n",
              "      <th>25%</th>\n",
              "      <td>1.000000</td>\n",
              "      <td>0.0</td>\n",
              "      <td>3158.585000</td>\n",
              "      <td>22.000000</td>\n",
              "      <td>16.000000</td>\n",
              "    </tr>\n",
              "    <tr>\n",
              "      <th>50%</th>\n",
              "      <td>1.000000</td>\n",
              "      <td>0.0</td>\n",
              "      <td>6432.010000</td>\n",
              "      <td>28.000000</td>\n",
              "      <td>29.000000</td>\n",
              "    </tr>\n",
              "    <tr>\n",
              "      <th>75%</th>\n",
              "      <td>1.000000</td>\n",
              "      <td>0.0</td>\n",
              "      <td>12465.945000</td>\n",
              "      <td>38.000000</td>\n",
              "      <td>53.655000</td>\n",
              "    </tr>\n",
              "    <tr>\n",
              "      <th>max</th>\n",
              "      <td>1.000000</td>\n",
              "      <td>0.0</td>\n",
              "      <td>267128.520000</td>\n",
              "      <td>78.000000</td>\n",
              "      <td>8835.980000</td>\n",
              "    </tr>\n",
              "  </tbody>\n",
              "</table>\n",
              "</div>"
            ],
            "text/plain": [
              "       card_present_flag  merchant_code        balance           age  \\\n",
              "count        7717.000000          883.0   12043.000000  12043.000000   \n",
              "mean            0.802644            0.0   14704.195553     30.582330   \n",
              "std             0.398029            0.0   31503.722652     10.046343   \n",
              "min             0.000000            0.0       0.240000     18.000000   \n",
              "25%             1.000000            0.0    3158.585000     22.000000   \n",
              "50%             1.000000            0.0    6432.010000     28.000000   \n",
              "75%             1.000000            0.0   12465.945000     38.000000   \n",
              "max             1.000000            0.0  267128.520000     78.000000   \n",
              "\n",
              "             amount  \n",
              "count  12043.000000  \n",
              "mean     187.933588  \n",
              "std      592.599934  \n",
              "min        0.100000  \n",
              "25%       16.000000  \n",
              "50%       29.000000  \n",
              "75%       53.655000  \n",
              "max     8835.980000  "
            ]
          },
          "metadata": {
            "tags": []
          },
          "execution_count": 5
        }
      ]
    },
    {
      "cell_type": "code",
      "metadata": {
        "id": "ReVt2q423dA1",
        "colab_type": "code",
        "colab": {
          "base_uri": "https://localhost:8080/",
          "height": 479
        },
        "outputId": "ab4ed9be-6373-4bce-8014-15655f7b21e6"
      },
      "source": [
        "df_transaction.head()"
      ],
      "execution_count": null,
      "outputs": [
        {
          "output_type": "execute_result",
          "data": {
            "text/html": [
              "<div>\n",
              "<style scoped>\n",
              "    .dataframe tbody tr th:only-of-type {\n",
              "        vertical-align: middle;\n",
              "    }\n",
              "\n",
              "    .dataframe tbody tr th {\n",
              "        vertical-align: top;\n",
              "    }\n",
              "\n",
              "    .dataframe thead th {\n",
              "        text-align: right;\n",
              "    }\n",
              "</style>\n",
              "<table border=\"1\" class=\"dataframe\">\n",
              "  <thead>\n",
              "    <tr style=\"text-align: right;\">\n",
              "      <th></th>\n",
              "      <th>status</th>\n",
              "      <th>card_present_flag</th>\n",
              "      <th>bpay_biller_code</th>\n",
              "      <th>account</th>\n",
              "      <th>currency</th>\n",
              "      <th>long_lat</th>\n",
              "      <th>txn_description</th>\n",
              "      <th>merchant_id</th>\n",
              "      <th>merchant_code</th>\n",
              "      <th>first_name</th>\n",
              "      <th>balance</th>\n",
              "      <th>date</th>\n",
              "      <th>gender</th>\n",
              "      <th>age</th>\n",
              "      <th>merchant_suburb</th>\n",
              "      <th>merchant_state</th>\n",
              "      <th>extraction</th>\n",
              "      <th>amount</th>\n",
              "      <th>transaction_id</th>\n",
              "      <th>country</th>\n",
              "      <th>customer_id</th>\n",
              "      <th>merchant_long_lat</th>\n",
              "      <th>movement</th>\n",
              "    </tr>\n",
              "  </thead>\n",
              "  <tbody>\n",
              "    <tr>\n",
              "      <th>0</th>\n",
              "      <td>authorized</td>\n",
              "      <td>1.0</td>\n",
              "      <td>NaN</td>\n",
              "      <td>ACC-1598451071</td>\n",
              "      <td>AUD</td>\n",
              "      <td>153.41 -27.95</td>\n",
              "      <td>POS</td>\n",
              "      <td>81c48296-73be-44a7-befa-d053f48ce7cd</td>\n",
              "      <td>NaN</td>\n",
              "      <td>Diana</td>\n",
              "      <td>35.39</td>\n",
              "      <td>2018-08-01</td>\n",
              "      <td>F</td>\n",
              "      <td>26</td>\n",
              "      <td>Ashmore</td>\n",
              "      <td>QLD</td>\n",
              "      <td>2018-08-01T01:01:15.000+0000</td>\n",
              "      <td>16.25</td>\n",
              "      <td>a623070bfead4541a6b0fff8a09e706c</td>\n",
              "      <td>Australia</td>\n",
              "      <td>CUS-2487424745</td>\n",
              "      <td>153.38 -27.99</td>\n",
              "      <td>debit</td>\n",
              "    </tr>\n",
              "    <tr>\n",
              "      <th>1</th>\n",
              "      <td>authorized</td>\n",
              "      <td>0.0</td>\n",
              "      <td>NaN</td>\n",
              "      <td>ACC-1598451071</td>\n",
              "      <td>AUD</td>\n",
              "      <td>153.41 -27.95</td>\n",
              "      <td>SALES-POS</td>\n",
              "      <td>830a451c-316e-4a6a-bf25-e37caedca49e</td>\n",
              "      <td>NaN</td>\n",
              "      <td>Diana</td>\n",
              "      <td>21.20</td>\n",
              "      <td>2018-08-01</td>\n",
              "      <td>F</td>\n",
              "      <td>26</td>\n",
              "      <td>Sydney</td>\n",
              "      <td>NSW</td>\n",
              "      <td>2018-08-01T01:13:45.000+0000</td>\n",
              "      <td>14.19</td>\n",
              "      <td>13270a2a902145da9db4c951e04b51b9</td>\n",
              "      <td>Australia</td>\n",
              "      <td>CUS-2487424745</td>\n",
              "      <td>151.21 -33.87</td>\n",
              "      <td>debit</td>\n",
              "    </tr>\n",
              "    <tr>\n",
              "      <th>2</th>\n",
              "      <td>authorized</td>\n",
              "      <td>1.0</td>\n",
              "      <td>NaN</td>\n",
              "      <td>ACC-1222300524</td>\n",
              "      <td>AUD</td>\n",
              "      <td>151.23 -33.94</td>\n",
              "      <td>POS</td>\n",
              "      <td>835c231d-8cdf-4e96-859d-e9d571760cf0</td>\n",
              "      <td>NaN</td>\n",
              "      <td>Michael</td>\n",
              "      <td>5.71</td>\n",
              "      <td>2018-08-01</td>\n",
              "      <td>M</td>\n",
              "      <td>38</td>\n",
              "      <td>Sydney</td>\n",
              "      <td>NSW</td>\n",
              "      <td>2018-08-01T01:26:15.000+0000</td>\n",
              "      <td>6.42</td>\n",
              "      <td>feb79e7ecd7048a5a36ec889d1a94270</td>\n",
              "      <td>Australia</td>\n",
              "      <td>CUS-2142601169</td>\n",
              "      <td>151.21 -33.87</td>\n",
              "      <td>debit</td>\n",
              "    </tr>\n",
              "    <tr>\n",
              "      <th>3</th>\n",
              "      <td>authorized</td>\n",
              "      <td>1.0</td>\n",
              "      <td>NaN</td>\n",
              "      <td>ACC-1037050564</td>\n",
              "      <td>AUD</td>\n",
              "      <td>153.10 -27.66</td>\n",
              "      <td>SALES-POS</td>\n",
              "      <td>48514682-c78a-4a88-b0da-2d6302e64673</td>\n",
              "      <td>NaN</td>\n",
              "      <td>Rhonda</td>\n",
              "      <td>2117.22</td>\n",
              "      <td>2018-08-01</td>\n",
              "      <td>F</td>\n",
              "      <td>40</td>\n",
              "      <td>Buderim</td>\n",
              "      <td>QLD</td>\n",
              "      <td>2018-08-01T01:38:45.000+0000</td>\n",
              "      <td>40.90</td>\n",
              "      <td>2698170da3704fd981b15e64a006079e</td>\n",
              "      <td>Australia</td>\n",
              "      <td>CUS-1614226872</td>\n",
              "      <td>153.05 -26.68</td>\n",
              "      <td>debit</td>\n",
              "    </tr>\n",
              "    <tr>\n",
              "      <th>4</th>\n",
              "      <td>authorized</td>\n",
              "      <td>1.0</td>\n",
              "      <td>NaN</td>\n",
              "      <td>ACC-1598451071</td>\n",
              "      <td>AUD</td>\n",
              "      <td>153.41 -27.95</td>\n",
              "      <td>SALES-POS</td>\n",
              "      <td>b4e02c10-0852-4273-b8fd-7b3395e32eb0</td>\n",
              "      <td>NaN</td>\n",
              "      <td>Diana</td>\n",
              "      <td>17.95</td>\n",
              "      <td>2018-08-01</td>\n",
              "      <td>F</td>\n",
              "      <td>26</td>\n",
              "      <td>Mermaid Beach</td>\n",
              "      <td>QLD</td>\n",
              "      <td>2018-08-01T01:51:15.000+0000</td>\n",
              "      <td>3.25</td>\n",
              "      <td>329adf79878c4cf0aeb4188b4691c266</td>\n",
              "      <td>Australia</td>\n",
              "      <td>CUS-2487424745</td>\n",
              "      <td>153.44 -28.06</td>\n",
              "      <td>debit</td>\n",
              "    </tr>\n",
              "  </tbody>\n",
              "</table>\n",
              "</div>"
            ],
            "text/plain": [
              "       status  card_present_flag bpay_biller_code         account currency  \\\n",
              "0  authorized                1.0              NaN  ACC-1598451071      AUD   \n",
              "1  authorized                0.0              NaN  ACC-1598451071      AUD   \n",
              "2  authorized                1.0              NaN  ACC-1222300524      AUD   \n",
              "3  authorized                1.0              NaN  ACC-1037050564      AUD   \n",
              "4  authorized                1.0              NaN  ACC-1598451071      AUD   \n",
              "\n",
              "        long_lat txn_description                           merchant_id  \\\n",
              "0  153.41 -27.95             POS  81c48296-73be-44a7-befa-d053f48ce7cd   \n",
              "1  153.41 -27.95       SALES-POS  830a451c-316e-4a6a-bf25-e37caedca49e   \n",
              "2  151.23 -33.94             POS  835c231d-8cdf-4e96-859d-e9d571760cf0   \n",
              "3  153.10 -27.66       SALES-POS  48514682-c78a-4a88-b0da-2d6302e64673   \n",
              "4  153.41 -27.95       SALES-POS  b4e02c10-0852-4273-b8fd-7b3395e32eb0   \n",
              "\n",
              "   merchant_code first_name  balance       date gender  age merchant_suburb  \\\n",
              "0            NaN      Diana    35.39 2018-08-01      F   26         Ashmore   \n",
              "1            NaN      Diana    21.20 2018-08-01      F   26          Sydney   \n",
              "2            NaN    Michael     5.71 2018-08-01      M   38          Sydney   \n",
              "3            NaN     Rhonda  2117.22 2018-08-01      F   40         Buderim   \n",
              "4            NaN      Diana    17.95 2018-08-01      F   26   Mermaid Beach   \n",
              "\n",
              "  merchant_state                    extraction  amount  \\\n",
              "0            QLD  2018-08-01T01:01:15.000+0000   16.25   \n",
              "1            NSW  2018-08-01T01:13:45.000+0000   14.19   \n",
              "2            NSW  2018-08-01T01:26:15.000+0000    6.42   \n",
              "3            QLD  2018-08-01T01:38:45.000+0000   40.90   \n",
              "4            QLD  2018-08-01T01:51:15.000+0000    3.25   \n",
              "\n",
              "                     transaction_id    country     customer_id  \\\n",
              "0  a623070bfead4541a6b0fff8a09e706c  Australia  CUS-2487424745   \n",
              "1  13270a2a902145da9db4c951e04b51b9  Australia  CUS-2487424745   \n",
              "2  feb79e7ecd7048a5a36ec889d1a94270  Australia  CUS-2142601169   \n",
              "3  2698170da3704fd981b15e64a006079e  Australia  CUS-1614226872   \n",
              "4  329adf79878c4cf0aeb4188b4691c266  Australia  CUS-2487424745   \n",
              "\n",
              "  merchant_long_lat movement  \n",
              "0     153.38 -27.99    debit  \n",
              "1     151.21 -33.87    debit  \n",
              "2     151.21 -33.87    debit  \n",
              "3     153.05 -26.68    debit  \n",
              "4     153.44 -28.06    debit  "
            ]
          },
          "metadata": {
            "tags": []
          },
          "execution_count": 6
        }
      ]
    },
    {
      "cell_type": "code",
      "metadata": {
        "id": "3yFaHB1ZJ3Dv",
        "colab_type": "code",
        "colab": {}
      },
      "source": [
        "# Convert extraction to datetime from string\n",
        "df_transaction['extraction'] = df_transaction['extraction'].apply(pd.to_datetime)"
      ],
      "execution_count": null,
      "outputs": []
    },
    {
      "cell_type": "code",
      "metadata": {
        "id": "f4FCpu8_IJkQ",
        "colab_type": "code",
        "colab": {
          "base_uri": "https://localhost:8080/",
          "height": 34
        },
        "outputId": "1df827aa-2f56-4b59-824a-72fd1408b56e"
      },
      "source": [
        "# Total time period of 3 months.\n",
        "print(df_transaction['date'].min(),df_transaction['date'].max())"
      ],
      "execution_count": null,
      "outputs": [
        {
          "output_type": "stream",
          "text": [
            "2018-08-01 00:00:00 2018-10-31 00:00:00\n"
          ],
          "name": "stdout"
        }
      ]
    },
    {
      "cell_type": "code",
      "metadata": {
        "id": "dislDjqw3eyJ",
        "colab_type": "code",
        "colab": {
          "base_uri": "https://localhost:8080/",
          "height": 68
        },
        "outputId": "1035e420-8a9e-4271-e1ee-a08c1ef2d196"
      },
      "source": [
        "df_transaction['status'].value_counts()"
      ],
      "execution_count": null,
      "outputs": [
        {
          "output_type": "execute_result",
          "data": {
            "text/plain": [
              "authorized    7717\n",
              "posted        4326\n",
              "Name: status, dtype: int64"
            ]
          },
          "metadata": {
            "tags": []
          },
          "execution_count": 9
        }
      ]
    },
    {
      "cell_type": "code",
      "metadata": {
        "id": "zf18Mpjmv6kG",
        "colab_type": "code",
        "colab": {
          "base_uri": "https://localhost:8080/",
          "height": 136
        },
        "outputId": "19f8c7ee-11bd-4c97-d366-d1af942bb73a"
      },
      "source": [
        "df_transaction['txn_description'].value_counts()"
      ],
      "execution_count": null,
      "outputs": [
        {
          "output_type": "execute_result",
          "data": {
            "text/plain": [
              "SALES-POS     3934\n",
              "POS           3783\n",
              "PAYMENT       2600\n",
              "PAY/SALARY     883\n",
              "INTER BANK     742\n",
              "PHONE BANK     101\n",
              "Name: txn_description, dtype: int64"
            ]
          },
          "metadata": {
            "tags": []
          },
          "execution_count": 10
        }
      ]
    },
    {
      "cell_type": "code",
      "metadata": {
        "id": "J7J-D6TuNVXg",
        "colab_type": "code",
        "colab": {}
      },
      "source": [
        "def detect_outlier(column):\n",
        "    output=[]\n",
        "    threshold=2\n",
        "    mean_1 = np.mean(column)\n",
        "    std_1 =np.std(column)\n",
        "    \n",
        "    \n",
        "    for y in column:\n",
        "        z_score= (y - mean_1)/std_1 \n",
        "        if np.abs(z_score) > threshold:\n",
        "            output.append('Outlier')\n",
        "        else:\n",
        "            output.append('In Range')\n",
        "    return output\n",
        "\n",
        "def remove_outlier(column):\n",
        "    output=[]\n",
        "    threshold=2\n",
        "    mean_1 = np.mean(column)\n",
        "    std_1 =np.std(column)\n",
        "    \n",
        "    \n",
        "    for y in column:\n",
        "        z_score= (y - mean_1)/std_1 \n",
        "        if np.abs(z_score) <= threshold:\n",
        "            output.append(y)\n",
        "    return output"
      ],
      "execution_count": null,
      "outputs": []
    },
    {
      "cell_type": "code",
      "metadata": {
        "id": "VBWr4Pz02BXF",
        "colab_type": "code",
        "colab": {}
      },
      "source": [
        "\n",
        "# Find Outliers separately for credit and debit transactions\n",
        "df_transaction['Outlier'] = ''\n",
        "df_transaction.loc[df_transaction['movement']=='debit','Outlier'] = detect_outlier(df_transaction[df_transaction['movement']=='debit']['amount'])\n",
        "df_transaction.loc[df_transaction['movement']=='credit','Outlier'] = detect_outlier(df_transaction[df_transaction['movement']=='credit']['amount'])\n",
        "\n",
        "#df_transaction.to_excel(\"ANZ synthesised transaction dataset.xlsx\",\n",
        "#             sheet_name='DSynth_Output_100c_3m_v3', index=False)"
      ],
      "execution_count": null,
      "outputs": []
    },
    {
      "cell_type": "markdown",
      "metadata": {
        "id": "guM7g_24WJlR",
        "colab_type": "text"
      },
      "source": [
        "## 3. Visualizing  various features\n",
        "\n"
      ]
    },
    {
      "cell_type": "markdown",
      "metadata": {
        "id": "EbIL-hNCKKS6",
        "colab_type": "text"
      },
      "source": [
        "\n",
        "### 3.1 Transaction Amount (Without Outliers)"
      ]
    },
    {
      "cell_type": "code",
      "metadata": {
        "id": "m971U7F-zhTn",
        "colab_type": "code",
        "colab": {
          "base_uri": "https://localhost:8080/",
          "height": 404
        },
        "outputId": "d9f779fb-ff9c-49bb-ed20-4b57a364b149"
      },
      "source": [
        "hist1 = sns.distplot(df_transaction.loc[(df_transaction['movement']=='debit') & (df_transaction['Outlier']=='In Range'),'amount'], kde=False, hist=True, rug=True).set_title('Histogram for transaction amount of debit transaction')"
      ],
      "execution_count": null,
      "outputs": [
        {
          "output_type": "display_data",
          "data": {
            "image/png": "[encoded data removed]",
            "text/plain": [
              "<Figure size 720x432 with 1 Axes>"
            ]
          },
          "metadata": {
            "tags": [],
            "needs_background": "light"
          }
        }
      ]
    },
    {
      "cell_type": "code",
      "metadata": {
        "id": "3yqb38-lvts1",
        "colab_type": "code",
        "colab": {
          "base_uri": "https://localhost:8080/",
          "height": 404
        },
        "outputId": "26fcdf27-5cb1-4821-ec2b-a4699cf627df"
      },
      "source": [
        "hist2 = sns.distplot(df_transaction.loc[(df_transaction['movement']=='credit') & (df_transaction['Outlier']=='In Range'),'amount'], kde=False, hist=True, rug=True).set_title('Histogram for transaction amount of credit transaction')"
      ],
      "execution_count": null,
      "outputs": [
        {
          "output_type": "display_data",
          "data": {
            "image/png": "[encoded data removed]",
            "text/plain": [
              "<Figure size 720x432 with 1 Axes>"
            ]
          },
          "metadata": {
            "tags": [],
            "needs_background": "light"
          }
        }
      ]
    },
    {
      "cell_type": "markdown",
      "metadata": {
        "id": "7WHnkbk8BKJZ",
        "colab_type": "text"
      },
      "source": [
        "### 3.2 Transaction Volume"
      ]
    },
    {
      "cell_type": "code",
      "metadata": {
        "id": "rSNlxc-HEypO",
        "colab_type": "code",
        "colab": {
          "base_uri": "https://localhost:8080/",
          "height": 443
        },
        "outputId": "20ea5e0c-bd18-4e97-eade-7053f6492345"
      },
      "source": [
        "df_transaction_temp = df_transaction.copy()\n",
        "df_transaction_temp['transaction_day'] = df_transaction_temp['extraction'].dt.dayofweek\n",
        "df_transaction_temp = df_transaction_temp.groupby(['transaction_day','movement'])['transaction_id'].agg(lambda x: x.count()).reset_index()\n",
        "plot = sns.lineplot(x=\"transaction_day\", y=\"transaction_id\",hue=\"movement\", data=df_transaction_temp)\n",
        "plt.title('Transaction Volume by Weekday')\n",
        "plt.ylabel('Number of Transactions')\n",
        "\n",
        "# set the ticks\n",
        "plt.xticks(np.arange(7),rotation=45)\n",
        "# rename the ticks\n",
        "plot.set_xticklabels(['Monday','Tuesday','Wednesday','Thursday','Friday','Saturday','Sunday'])\n",
        "plt.show()"
      ],
      "execution_count": null,
      "outputs": [
        {
          "output_type": "display_data",
          "data": {
            "image/png": "[encoded data removed]",
            "text/plain": [
              "<Figure size 720x432 with 1 Axes>"
            ]
          },
          "metadata": {
            "tags": [],
            "needs_background": "light"
          }
        }
      ]
    },
    {
      "cell_type": "code",
      "metadata": {
        "id": "VChyDhm1k_az",
        "colab_type": "code",
        "colab": {
          "base_uri": "https://localhost:8080/",
          "height": 389
        },
        "outputId": "3c1667b3-d202-46c5-fff2-a7b8dae04dc9"
      },
      "source": [
        "df_transaction_temp = df_transaction.copy()\n",
        "df_transaction_temp['transaction_hour'] = df_transaction_temp['extraction'].dt.hour\n",
        "df_transaction_temp = df_transaction_temp.groupby(['transaction_hour','movement'])['transaction_id'].agg(lambda x: x.count()).reset_index()\n",
        "\n",
        "plt.figure(figsize=(20,5))\n",
        "plot = sns.lineplot(x=\"transaction_hour\", y=\"transaction_id\",hue=\"movement\", data=df_transaction_temp)\n",
        "plt.title('Transaction Volume by Hour')\n",
        "plot.set(xticks=df_transaction_temp.transaction_hour.values)\n",
        "plt.ylabel('Number of Transactions')\n",
        "# set the ticks\n",
        "plt.xticks(np.arange(7),rotation=45)\n",
        "# rename the ticks\n",
        "plot.set_xticklabels(['Monday','Tuesday','Wednesday','Thursday','Friday','Saturday','Sunday'])\n",
        "plt.show()"
      ],
      "execution_count": null,
      "outputs": [
        {
          "output_type": "display_data",
          "data": {
            "image/png": "[encoded data removed]",
            "text/plain": [
              "<Figure size 1440x360 with 1 Axes>"
            ]
          },
          "metadata": {
            "tags": [],
            "needs_background": "light"
          }
        }
      ]
    },
    {
      "cell_type": "code",
      "metadata": {
        "id": "2TmveKf_0l_3",
        "colab_type": "code",
        "colab": {
          "base_uri": "https://localhost:8080/",
          "height": 351
        },
        "outputId": "1634d8fa-a9fb-45f7-dc47-5d59b83402c8"
      },
      "source": [
        "df_transaction_temp = df_transaction.copy()\n",
        "df_transaction_temp['month_name'] = df_transaction_temp['extraction'].dt.month_name()\n",
        "df_transaction_temp = df_transaction_temp.groupby(['month_name','movement'])['transaction_id'].agg(lambda x: x.count()).reset_index()\n",
        "plt.figure(figsize=(10,5))\n",
        "plot = sns.barplot(x=\"month_name\", y=\"transaction_id\",hue=\"movement\", data=df_transaction_temp)\n",
        "plt.title('Transaction Volume by Month')\n",
        "plt.ylabel('Number of Transactions')\n",
        "plt.show()"
      ],
      "execution_count": null,
      "outputs": [
        {
          "output_type": "display_data",
          "data": {
            "image/png": "[encoded data removed]",
            "text/plain": [
              "<Figure size 720x360 with 1 Axes>"
            ]
          },
          "metadata": {
            "tags": [],
            "needs_background": "light"
          }
        }
      ]
    },
    {
      "cell_type": "markdown",
      "metadata": {
        "id": "_iomSdHzJoUt",
        "colab_type": "text"
      },
      "source": [
        "### 3.3 Account Balance"
      ]
    },
    {
      "cell_type": "code",
      "metadata": {
        "id": "dWE8LmjLKaKt",
        "colab_type": "code",
        "colab": {
          "base_uri": "https://localhost:8080/",
          "height": 367
        },
        "outputId": "15cc83ae-e133-49cd-e057-af1bad8bfce2"
      },
      "source": [
        "fig,ax = plt.subplots(figsize=(5,5))\n",
        "cut = pd.cut(df_transaction.age, [0, 25,50,100],labels=[\"25 and below\",\"26-50\",\"51 and above\"])\n",
        "df_transaction_temp = df_transaction.groupby(cut)['balance'].agg(lambda x: x.mean()).reset_index()\n",
        "plt.title('Average Account Balance by Age group')\n",
        "plt.xlabel('Age Group')\n",
        "plt.ylabel('Balance')\n",
        "sns.barplot(x=\"age\",y=\"balance\",data=df_transaction_temp)"
      ],
      "execution_count": null,
      "outputs": [
        {
          "output_type": "execute_result",
          "data": {
            "text/plain": [
              "<matplotlib.axes._subplots.AxesSubplot at 0x7f82495bc588>"
            ]
          },
          "metadata": {
            "tags": []
          },
          "execution_count": 18
        },
        {
          "output_type": "display_data",
          "data": {
            "image/png": "[encoded data removed]",
            "text/plain": [
              "<Figure size 360x360 with 1 Axes>"
            ]
          },
          "metadata": {
            "tags": [],
            "needs_background": "light"
          }
        }
      ]
    },
    {
      "cell_type": "markdown",
      "metadata": {
        "id": "sYCA3FAWZq_e",
        "colab_type": "text"
      },
      "source": [
        "### 3.4 Correlation between columns"
      ]
    },
    {
      "cell_type": "code",
      "metadata": {
        "id": "-zisRKC2W9lV",
        "colab_type": "code",
        "colab": {
          "base_uri": "https://localhost:8080/",
          "height": 396
        },
        "outputId": "a452f5db-aad5-4566-df16-a0b208e3ee9f"
      },
      "source": [
        "sns.heatmap(df_transaction.iloc[:,1:].corr(), cmap=\"PuBu\")"
      ],
      "execution_count": null,
      "outputs": [
        {
          "output_type": "execute_result",
          "data": {
            "text/plain": [
              "<matplotlib.axes._subplots.AxesSubplot at 0x7f82496e7588>"
            ]
          },
          "metadata": {
            "tags": []
          },
          "execution_count": 19
        },
        {
          "output_type": "display_data",
          "data": {
            "image/png": "[encoded data removed]",
            "text/plain": [
              "<Figure size 720x432 with 2 Axes>"
            ]
          },
          "metadata": {
            "tags": [],
            "needs_background": "light"
          }
        }
      ]
    },
    {
      "cell_type": "markdown",
      "metadata": {
        "id": "y2p1rAqbZ8zi",
        "colab_type": "text"
      },
      "source": [
        "Age and Balance show high correlation."
      ]
    },
    {
      "cell_type": "markdown",
      "metadata": {
        "id": "ysISPcZAaRSn",
        "colab_type": "text"
      },
      "source": [
        "## 4. Working on Location Information"
      ]
    },
    {
      "cell_type": "code",
      "metadata": {
        "id": "62uEIG4cdSMX",
        "colab_type": "code",
        "colab": {
          "base_uri": "https://localhost:8080/",
          "height": 102
        },
        "outputId": "9e721e35-5658-4c6e-a62f-654a0da9c80f"
      },
      "source": [
        "df_transaction[pd.isna(df_transaction['merchant_id'])].txn_description.value_counts()"
      ],
      "execution_count": null,
      "outputs": [
        {
          "output_type": "execute_result",
          "data": {
            "text/plain": [
              "PAYMENT       2600\n",
              "PAY/SALARY     883\n",
              "INTER BANK     742\n",
              "PHONE BANK     101\n",
              "Name: txn_description, dtype: int64"
            ]
          },
          "metadata": {
            "tags": []
          },
          "execution_count": 20
        }
      ]
    },
    {
      "cell_type": "code",
      "metadata": {
        "id": "QCY2v79ebwAU",
        "colab_type": "code",
        "colab": {
          "base_uri": "https://localhost:8080/",
          "height": 51
        },
        "outputId": "cb6be1d1-8c05-4968-e65b-b25610495029"
      },
      "source": [
        "df_transaction[pd.notna(df_transaction['merchant_id'])].movement.value_counts()"
      ],
      "execution_count": null,
      "outputs": [
        {
          "output_type": "execute_result",
          "data": {
            "text/plain": [
              "debit    7717\n",
              "Name: movement, dtype: int64"
            ]
          },
          "metadata": {
            "tags": []
          },
          "execution_count": 21
        }
      ]
    },
    {
      "cell_type": "code",
      "metadata": {
        "id": "jIdsy_eZ3iP6",
        "colab_type": "code",
        "colab": {}
      },
      "source": [
        "# Split into longitude and latitude\n",
        "df_transaction[['longitude','latitude']] = df_transaction['long_lat'].str.split(expand=True)\n",
        "df_transaction[['merchant_longitude','merchant_latitude']] = df_transaction['merchant_long_lat'].str.split(expand=True) "
      ],
      "execution_count": null,
      "outputs": []
    },
    {
      "cell_type": "code",
      "metadata": {
        "id": "iMn4rgxG3kBG",
        "colab_type": "code",
        "colab": {
          "base_uri": "https://localhost:8080/",
          "height": 34
        },
        "outputId": "255daada-9172-4349-f7a6-faa351cde0d2"
      },
      "source": [
        "# 123 rows with wrong lat and long --> CUS-1617121891\t\n",
        "df_transaction[df_transaction['latitude']=='-573.00'].shape"
      ],
      "execution_count": null,
      "outputs": [
        {
          "output_type": "execute_result",
          "data": {
            "text/plain": [
              "(123, 28)"
            ]
          },
          "metadata": {
            "tags": []
          },
          "execution_count": 23
        }
      ]
    },
    {
      "cell_type": "code",
      "metadata": {
        "id": "KSmOCfI833vH",
        "colab_type": "code",
        "colab": {
          "base_uri": "https://localhost:8080/",
          "height": 34
        },
        "outputId": "95ac073d-4d22-4d2f-e63c-2c3702794c20"
      },
      "source": [
        "# Find the bounding box for the location attributes\n",
        "df_wrong_loc = df_transaction[df_transaction['account']!='ACC-2901672282']\n",
        "BBox = ((df_wrong_loc.longitude.min(), df_wrong_loc.longitude.max(),      \n",
        "         df_wrong_loc.latitude.min(), df_wrong_loc.latitude.max()))\n",
        "BBox"
      ],
      "execution_count": null,
      "outputs": [
        {
          "output_type": "execute_result",
          "data": {
            "text/plain": [
              "('114.62', '153.41', '-12.37', '-42.88')"
            ]
          },
          "metadata": {
            "tags": []
          },
          "execution_count": 24
        }
      ]
    },
    {
      "cell_type": "code",
      "metadata": {
        "id": "jSy82jWd8XzB",
        "colab_type": "code",
        "colab": {}
      },
      "source": [
        "# Get the shape file for Australia\n",
        "aus_map=gpd.read_file('drive/My Drive/anztask1/Australia_boundary.shp')"
      ],
      "execution_count": null,
      "outputs": []
    },
    {
      "cell_type": "code",
      "metadata": {
        "id": "e68v0z8e8i-U",
        "colab_type": "code",
        "colab": {}
      },
      "source": [
        "df_transaction['latitude'] = df_transaction['latitude'].astype(float)\n",
        "df_transaction['longitude'] = df_transaction['longitude'].astype(float)\n",
        "df_transaction['merchant_latitude'] = df_transaction['merchant_latitude'].astype(float)\n",
        "df_transaction['merchant_longitude'] = df_transaction['merchant_longitude'].astype(float)\n",
        "crs = {'init':'epsg:4326'}\n",
        "geometry = [Point(xy) for xy in zip(df_transaction['longitude'], df_transaction['latitude'])]\n",
        "merchant_geometry = [Point(xy) for xy in zip(df_transaction['merchant_longitude'], df_transaction['merchant_latitude'])]"
      ],
      "execution_count": null,
      "outputs": []
    },
    {
      "cell_type": "code",
      "metadata": {
        "id": "scyUfs58HPMv",
        "colab_type": "code",
        "colab": {
          "base_uri": "https://localhost:8080/",
          "height": 71
        },
        "outputId": "59279410-b477-4302-f325-ea40189647af"
      },
      "source": [
        "geo_df = gpd.GeoDataFrame(df_transaction.copy(),\n",
        "                          crs=crs,\n",
        "                          geometry=geometry)\n",
        "merchant_geo_df = gpd.GeoDataFrame(df_transaction.copy(),\n",
        "                          crs=crs,\n",
        "                          geometry=merchant_geometry)"
      ],
      "execution_count": null,
      "outputs": [
        {
          "output_type": "stream",
          "text": [
            "/usr/local/lib/python3.6/dist-packages/pyproj/crs/crs.py:53: FutureWarning: '+init=<authority>:<code>' syntax is deprecated. '<authority>:<code>' is the preferred initialization method. When making the change, be mindful of axis order changes: https://pyproj4.github.io/pyproj/stable/gotchas.html#axis-order-changes-in-proj-6\n",
            "  return _prepare_from_string(\" \".join(pjargs))\n"
          ],
          "name": "stderr"
        }
      ]
    },
    {
      "cell_type": "code",
      "metadata": {
        "id": "Jrjj02jJIhR1",
        "colab_type": "code",
        "colab": {
          "base_uri": "https://localhost:8080/",
          "height": 520
        },
        "outputId": "0809bcaa-cc0c-4b44-b354-2700ad064cbf"
      },
      "source": [
        "# Plot the coordinates for customer longitude and latitude.\n",
        "fig,ax = plt.subplots(figsize=(15,15))\n",
        "aus_map.plot(ax=ax, alpha=0.4, color=\"black\")\n",
        "geo_df[geo_df['latitude']!=-573.00].plot(ax=ax,markersize=20) #exclude invalid coordinates"
      ],
      "execution_count": null,
      "outputs": [
        {
          "output_type": "execute_result",
          "data": {
            "text/plain": [
              "<matplotlib.axes._subplots.AxesSubplot at 0x7f824962aef0>"
            ]
          },
          "metadata": {
            "tags": []
          },
          "execution_count": 28
        },
        {
          "output_type": "display_data",
          "data": {
            "image/png": "[encoded data removed]",
            "text/plain": [
              "<Figure size 1080x1080 with 1 Axes>"
            ]
          },
          "metadata": {
            "tags": [],
            "needs_background": "light"
          }
        }
      ]
    },
    {
      "cell_type": "code",
      "metadata": {
        "id": "G02oHH4Igd6z",
        "colab_type": "code",
        "colab": {}
      },
      "source": [
        "def haversine_vectorize(lon1, lat1, lon2, lat2):\n",
        "\n",
        "    lon1, lat1, lon2, lat2 = map(np.radians, [lon1, lat1, lon2, lat2])\n",
        "\n",
        "    newlon = lon2 - lon1\n",
        "    newlat = lat2 - lat1\n",
        "\n",
        "    haver_formula = np.sin(newlat/2.0)**2 + np.cos(lat1) * np.cos(lat2) * np.sin(newlon/2.0)**2\n",
        "\n",
        "    dist = 2 * np.arcsin(np.sqrt(haver_formula ))\n",
        "    km = 6367 * dist #6367 for distance in KM for miles use 3958\n",
        "    return km"
      ],
      "execution_count": null,
      "outputs": []
    },
    {
      "cell_type": "code",
      "metadata": {
        "id": "OVWdSwBJiPXi",
        "colab_type": "code",
        "colab": {}
      },
      "source": [
        "df_transaction.loc[pd.notna(df_transaction['merchant_id']), 'distance'] = df_transaction[pd.notna(df_transaction['merchant_id'])].apply(lambda x : haversine_vectorize(x['longitude'], x['latitude'], x['merchant_longitude'], x['merchant_latitude']), axis=1)"
      ],
      "execution_count": null,
      "outputs": []
    },
    {
      "cell_type": "code",
      "metadata": {
        "id": "lpIVnK6i2LCf",
        "colab_type": "code",
        "colab": {
          "base_uri": "https://localhost:8080/",
          "height": 404
        },
        "outputId": "9957ce35-847a-47e8-d7e6-df1a70ec45e4"
      },
      "source": [
        "hist1 = sns.distplot(remove_outlier(df_transaction.loc[pd.notna(df_transaction['merchant_id']), 'distance']), kde=False, hist=True)\n",
        "plt.title('Histogram for distance between customer and merchant without outliers')\n",
        "plt.xlabel('Distance')\n",
        "plt.show()"
      ],
      "execution_count": null,
      "outputs": [
        {
          "output_type": "display_data",
          "data": {
            "image/png": "[encoded data removed]",
            "text/plain": [
              "<Figure size 720x432 with 1 Axes>"
            ]
          },
          "metadata": {
            "tags": [],
            "needs_background": "light"
          }
        }
      ]
    },
    {
      "cell_type": "code",
      "metadata": {
        "id": "eA4iVFGWkDKg",
        "colab_type": "code",
        "colab": {
          "base_uri": "https://localhost:8080/",
          "height": 404
        },
        "outputId": "7c591cb9-beb3-4fa8-9d17-64ba1dbe5243"
      },
      "source": [
        "hist1 = sns.distplot(df_transaction.loc[(pd.notna(df_transaction['merchant_id'])) & (df_transaction['distance']<500), 'distance'], kde=False, hist=True)\n",
        "plt.title('Histogram for distance between customer and merchant with distance less than 500km')\n",
        "plt.xlabel('Distance')\n",
        "plt.show()"
      ],
      "execution_count": null,
      "outputs": [
        {
          "output_type": "display_data",
          "data": {
            "image/png": "[encoded data removed]",
            "text/plain": [
              "<Figure size 720x432 with 1 Axes>"
            ]
          },
          "metadata": {
            "tags": [],
            "needs_background": "light"
          }
        }
      ]
    },
    {
      "cell_type": "markdown",
      "metadata": {
        "id": "98zRuCmj_1a4",
        "colab_type": "text"
      },
      "source": [
        "# Task 2"
      ]
    },
    {
      "cell_type": "markdown",
      "metadata": {
        "id": "SYYT9KsR0_G-",
        "colab_type": "text"
      },
      "source": [
        "## 5. Calculate Annual Salary"
      ]
    },
    {
      "cell_type": "code",
      "metadata": {
        "id": "iSlqS1Ol09Id",
        "colab_type": "code",
        "colab": {
          "base_uri": "https://localhost:8080/",
          "height": 204
        },
        "outputId": "7f883f09-9f28-4ad8-e583-0fff6ea8f4ec"
      },
      "source": [
        "df_transaction_temp = df_transaction[df_transaction[\"txn_description\"]==\"PAY/SALARY\"].groupby(['customer_id','age','gender','longitude','latitude'])['amount'].agg(lambda x: x.sum()).reset_index()\n",
        "df_transaction_temp.rename(columns={\"amount\": \"salary\"},inplace=True)\n",
        "df_transaction_temp[\"salary\"] = (df_transaction_temp[\"salary\"]/92)*365 # Annual salary\n",
        "df_transaction_temp.head()"
      ],
      "execution_count": null,
      "outputs": [
        {
          "output_type": "execute_result",
          "data": {
            "text/html": [
              "<div>\n",
              "<style scoped>\n",
              "    .dataframe tbody tr th:only-of-type {\n",
              "        vertical-align: middle;\n",
              "    }\n",
              "\n",
              "    .dataframe tbody tr th {\n",
              "        vertical-align: top;\n",
              "    }\n",
              "\n",
              "    .dataframe thead th {\n",
              "        text-align: right;\n",
              "    }\n",
              "</style>\n",
              "<table border=\"1\" class=\"dataframe\">\n",
              "  <thead>\n",
              "    <tr style=\"text-align: right;\">\n",
              "      <th></th>\n",
              "      <th>customer_id</th>\n",
              "      <th>age</th>\n",
              "      <th>gender</th>\n",
              "      <th>longitude</th>\n",
              "      <th>latitude</th>\n",
              "      <th>salary</th>\n",
              "    </tr>\n",
              "  </thead>\n",
              "  <tbody>\n",
              "    <tr>\n",
              "      <th>0</th>\n",
              "      <td>CUS-1005756958</td>\n",
              "      <td>53</td>\n",
              "      <td>F</td>\n",
              "      <td>153.03</td>\n",
              "      <td>-27.51</td>\n",
              "      <td>50053.045109</td>\n",
              "    </tr>\n",
              "    <tr>\n",
              "      <th>1</th>\n",
              "      <td>CUS-1117979751</td>\n",
              "      <td>21</td>\n",
              "      <td>M</td>\n",
              "      <td>115.81</td>\n",
              "      <td>-31.82</td>\n",
              "      <td>99385.334239</td>\n",
              "    </tr>\n",
              "    <tr>\n",
              "      <th>2</th>\n",
              "      <td>CUS-1140341822</td>\n",
              "      <td>28</td>\n",
              "      <td>M</td>\n",
              "      <td>144.97</td>\n",
              "      <td>-37.42</td>\n",
              "      <td>45621.270652</td>\n",
              "    </tr>\n",
              "    <tr>\n",
              "      <th>3</th>\n",
              "      <td>CUS-1147642491</td>\n",
              "      <td>34</td>\n",
              "      <td>F</td>\n",
              "      <td>151.04</td>\n",
              "      <td>-33.77</td>\n",
              "      <td>88266.799457</td>\n",
              "    </tr>\n",
              "    <tr>\n",
              "      <th>4</th>\n",
              "      <td>CUS-1196156254</td>\n",
              "      <td>34</td>\n",
              "      <td>F</td>\n",
              "      <td>138.52</td>\n",
              "      <td>-35.01</td>\n",
              "      <td>108413.371196</td>\n",
              "    </tr>\n",
              "  </tbody>\n",
              "</table>\n",
              "</div>"
            ],
            "text/plain": [
              "      customer_id  age gender  longitude  latitude         salary\n",
              "0  CUS-1005756958   53      F     153.03    -27.51   50053.045109\n",
              "1  CUS-1117979751   21      M     115.81    -31.82   99385.334239\n",
              "2  CUS-1140341822   28      M     144.97    -37.42   45621.270652\n",
              "3  CUS-1147642491   34      F     151.04    -33.77   88266.799457\n",
              "4  CUS-1196156254   34      F     138.52    -35.01  108413.371196"
            ]
          },
          "metadata": {
            "tags": []
          },
          "execution_count": 33
        }
      ]
    },
    {
      "cell_type": "code",
      "metadata": {
        "id": "hGjdPMNf-PR_",
        "colab_type": "code",
        "colab": {
          "base_uri": "https://localhost:8080/",
          "height": 404
        },
        "outputId": "79cb814e-40de-4315-bc7b-20b27a57c236"
      },
      "source": [
        "hist1 = sns.distplot(df_transaction_temp[\"salary\"], kde=False, hist=True)\n",
        "plt.title('Histogram for distance between customer and merchant with distance less than 500km')\n",
        "plt.xlabel('Distance')\n",
        "plt.show()"
      ],
      "execution_count": null,
      "outputs": [
        {
          "output_type": "display_data",
          "data": {
            "image/png": "[encoded data removed]",
            "text/plain": [
              "<Figure size 720x432 with 1 Axes>"
            ]
          },
          "metadata": {
            "tags": [],
            "needs_background": "light"
          }
        }
      ]
    },
    {
      "cell_type": "markdown",
      "metadata": {
        "id": "qr70oyPpB7q4",
        "colab_type": "text"
      },
      "source": [
        "## 6. Prepare data for Regression models"
      ]
    },
    {
      "cell_type": "markdown",
      "metadata": {
        "id": "htYPt8HMVQFO",
        "colab_type": "text"
      },
      "source": [
        "#### Add Additional Features"
      ]
    },
    {
      "cell_type": "code",
      "metadata": {
        "id": "DM1jOsepU43h",
        "colab_type": "code",
        "colab": {}
      },
      "source": [
        "df_transaction_temp[\"age_25_and_below\"] = df_transaction_temp[\"age\"].apply(lambda x : 1 if x <= 25 else 0)\n",
        "df_transaction_temp[\"age_26_50\"] = df_transaction_temp[\"age\"].apply(lambda x : 1 if (x > 25 and x<= 50) else 0)\n",
        "df_transaction_temp[\"age_51_and_above\"] = df_transaction_temp[\"age\"].apply(lambda x : 1 if x > 50 else 0)"
      ],
      "execution_count": null,
      "outputs": []
    },
    {
      "cell_type": "code",
      "metadata": {
        "id": "HCdecd60PnF4",
        "colab_type": "code",
        "colab": {}
      },
      "source": [
        "# Add columns by aggregating important numeric columns\n",
        "def f(x):\n",
        "    d = {}\n",
        "    d['max_amount'] = x['amount'].max()\n",
        "    d['mean_amount'] = x['amount'].mean()\n",
        "    d['max_balance'] = x['balance'].max()\n",
        "    d['mean_balance'] = x['balance'].mean()\n",
        "    d['total_transactions'] = x['transaction_id'].count()\n",
        "    d['customer_state'] = x['merchant_state'].value_counts().index[0]\n",
        "\n",
        "    return pd.Series(d, index=['max_amount', 'mean_amount', 'max_balance', 'mean_balance','total_transactions', 'customer_state'])\n",
        "\n",
        "df_transaction_temp = pd.merge(left=df_transaction_temp, right=df_transaction.groupby(['customer_id']).apply(f), left_on='customer_id', right_on='customer_id')\n",
        "    "
      ],
      "execution_count": null,
      "outputs": []
    },
    {
      "cell_type": "code",
      "metadata": {
        "id": "m3eMbRmUC7dQ",
        "colab_type": "code",
        "colab": {}
      },
      "source": [
        "df_transaction_temp = pd.get_dummies(df_transaction_temp.iloc[:,1:])# convert categorical variables"
      ],
      "execution_count": null,
      "outputs": []
    },
    {
      "cell_type": "code",
      "metadata": {
        "id": "-TncLb_ZDpRQ",
        "colab_type": "code",
        "colab": {
          "base_uri": "https://localhost:8080/",
          "height": 224
        },
        "outputId": "307e057c-9879-48f6-8d5a-04dcafd0e6fe"
      },
      "source": [
        "# final dataset\n",
        "df_transaction_temp.head()"
      ],
      "execution_count": null,
      "outputs": [
        {
          "output_type": "execute_result",
          "data": {
            "text/html": [
              "<div>\n",
              "<style scoped>\n",
              "    .dataframe tbody tr th:only-of-type {\n",
              "        vertical-align: middle;\n",
              "    }\n",
              "\n",
              "    .dataframe tbody tr th {\n",
              "        vertical-align: top;\n",
              "    }\n",
              "\n",
              "    .dataframe thead th {\n",
              "        text-align: right;\n",
              "    }\n",
              "</style>\n",
              "<table border=\"1\" class=\"dataframe\">\n",
              "  <thead>\n",
              "    <tr style=\"text-align: right;\">\n",
              "      <th></th>\n",
              "      <th>age</th>\n",
              "      <th>longitude</th>\n",
              "      <th>latitude</th>\n",
              "      <th>salary</th>\n",
              "      <th>age_25_and_below</th>\n",
              "      <th>age_26_50</th>\n",
              "      <th>age_51_and_above</th>\n",
              "      <th>max_amount</th>\n",
              "      <th>mean_amount</th>\n",
              "      <th>max_balance</th>\n",
              "      <th>mean_balance</th>\n",
              "      <th>total_transactions</th>\n",
              "      <th>gender_F</th>\n",
              "      <th>gender_M</th>\n",
              "      <th>customer_state_NSW</th>\n",
              "      <th>customer_state_NT</th>\n",
              "      <th>customer_state_QLD</th>\n",
              "      <th>customer_state_SA</th>\n",
              "      <th>customer_state_VIC</th>\n",
              "      <th>customer_state_WA</th>\n",
              "    </tr>\n",
              "  </thead>\n",
              "  <tbody>\n",
              "    <tr>\n",
              "      <th>0</th>\n",
              "      <td>53</td>\n",
              "      <td>153.03</td>\n",
              "      <td>-27.51</td>\n",
              "      <td>50053.045109</td>\n",
              "      <td>0</td>\n",
              "      <td>0</td>\n",
              "      <td>1</td>\n",
              "      <td>970.47</td>\n",
              "      <td>222.862603</td>\n",
              "      <td>9310.03</td>\n",
              "      <td>2275.852055</td>\n",
              "      <td>73</td>\n",
              "      <td>1</td>\n",
              "      <td>0</td>\n",
              "      <td>0</td>\n",
              "      <td>0</td>\n",
              "      <td>1</td>\n",
              "      <td>0</td>\n",
              "      <td>0</td>\n",
              "      <td>0</td>\n",
              "    </tr>\n",
              "    <tr>\n",
              "      <th>1</th>\n",
              "      <td>21</td>\n",
              "      <td>115.81</td>\n",
              "      <td>-31.82</td>\n",
              "      <td>99385.334239</td>\n",
              "      <td>1</td>\n",
              "      <td>0</td>\n",
              "      <td>0</td>\n",
              "      <td>3578.65</td>\n",
              "      <td>339.843700</td>\n",
              "      <td>18516.40</td>\n",
              "      <td>9829.929000</td>\n",
              "      <td>100</td>\n",
              "      <td>0</td>\n",
              "      <td>1</td>\n",
              "      <td>0</td>\n",
              "      <td>0</td>\n",
              "      <td>0</td>\n",
              "      <td>0</td>\n",
              "      <td>0</td>\n",
              "      <td>1</td>\n",
              "    </tr>\n",
              "    <tr>\n",
              "      <th>2</th>\n",
              "      <td>28</td>\n",
              "      <td>144.97</td>\n",
              "      <td>-37.42</td>\n",
              "      <td>45621.270652</td>\n",
              "      <td>0</td>\n",
              "      <td>1</td>\n",
              "      <td>0</td>\n",
              "      <td>1916.51</td>\n",
              "      <td>212.632500</td>\n",
              "      <td>7658.48</td>\n",
              "      <td>5699.212250</td>\n",
              "      <td>80</td>\n",
              "      <td>0</td>\n",
              "      <td>1</td>\n",
              "      <td>0</td>\n",
              "      <td>0</td>\n",
              "      <td>0</td>\n",
              "      <td>0</td>\n",
              "      <td>1</td>\n",
              "      <td>0</td>\n",
              "    </tr>\n",
              "    <tr>\n",
              "      <th>3</th>\n",
              "      <td>34</td>\n",
              "      <td>151.04</td>\n",
              "      <td>-33.77</td>\n",
              "      <td>88266.799457</td>\n",
              "      <td>0</td>\n",
              "      <td>1</td>\n",
              "      <td>0</td>\n",
              "      <td>1711.39</td>\n",
              "      <td>245.600169</td>\n",
              "      <td>15532.46</td>\n",
              "      <td>9032.841186</td>\n",
              "      <td>118</td>\n",
              "      <td>1</td>\n",
              "      <td>0</td>\n",
              "      <td>1</td>\n",
              "      <td>0</td>\n",
              "      <td>0</td>\n",
              "      <td>0</td>\n",
              "      <td>0</td>\n",
              "      <td>0</td>\n",
              "    </tr>\n",
              "    <tr>\n",
              "      <th>4</th>\n",
              "      <td>34</td>\n",
              "      <td>138.52</td>\n",
              "      <td>-35.01</td>\n",
              "      <td>108413.371196</td>\n",
              "      <td>0</td>\n",
              "      <td>1</td>\n",
              "      <td>0</td>\n",
              "      <td>3903.73</td>\n",
              "      <td>147.145796</td>\n",
              "      <td>31350.50</td>\n",
              "      <td>22272.433755</td>\n",
              "      <td>245</td>\n",
              "      <td>1</td>\n",
              "      <td>0</td>\n",
              "      <td>0</td>\n",
              "      <td>0</td>\n",
              "      <td>0</td>\n",
              "      <td>1</td>\n",
              "      <td>0</td>\n",
              "      <td>0</td>\n",
              "    </tr>\n",
              "  </tbody>\n",
              "</table>\n",
              "</div>"
            ],
            "text/plain": [
              "   age  longitude  latitude         salary  age_25_and_below  age_26_50  \\\n",
              "0   53     153.03    -27.51   50053.045109                 0          0   \n",
              "1   21     115.81    -31.82   99385.334239                 1          0   \n",
              "2   28     144.97    -37.42   45621.270652                 0          1   \n",
              "3   34     151.04    -33.77   88266.799457                 0          1   \n",
              "4   34     138.52    -35.01  108413.371196                 0          1   \n",
              "\n",
              "   age_51_and_above  max_amount  mean_amount  max_balance  mean_balance  \\\n",
              "0                 1      970.47   222.862603      9310.03   2275.852055   \n",
              "1                 0     3578.65   339.843700     18516.40   9829.929000   \n",
              "2                 0     1916.51   212.632500      7658.48   5699.212250   \n",
              "3                 0     1711.39   245.600169     15532.46   9032.841186   \n",
              "4                 0     3903.73   147.145796     31350.50  22272.433755   \n",
              "\n",
              "   total_transactions  gender_F  gender_M  customer_state_NSW  \\\n",
              "0                  73         1         0                   0   \n",
              "1                 100         0         1                   0   \n",
              "2                  80         0         1                   0   \n",
              "3                 118         1         0                   1   \n",
              "4                 245         1         0                   0   \n",
              "\n",
              "   customer_state_NT  customer_state_QLD  customer_state_SA  \\\n",
              "0                  0                   1                  0   \n",
              "1                  0                   0                  0   \n",
              "2                  0                   0                  0   \n",
              "3                  0                   0                  0   \n",
              "4                  0                   0                  1   \n",
              "\n",
              "   customer_state_VIC  customer_state_WA  \n",
              "0                   0                  0  \n",
              "1                   0                  1  \n",
              "2                   1                  0  \n",
              "3                   0                  0  \n",
              "4                   0                  0  "
            ]
          },
          "metadata": {
            "tags": []
          },
          "execution_count": 38
        }
      ]
    },
    {
      "cell_type": "code",
      "metadata": {
        "id": "ldoKfPIvXDzo",
        "colab_type": "code",
        "colab": {}
      },
      "source": [
        "#pplot = sns.pairplot(df_transaction_temp)\n",
        "#plt.show()"
      ],
      "execution_count": null,
      "outputs": []
    },
    {
      "cell_type": "code",
      "metadata": {
        "id": "uMZi6AU2CP99",
        "colab_type": "code",
        "colab": {
          "base_uri": "https://localhost:8080/",
          "height": 474
        },
        "outputId": "8339aa15-1f8f-4d8f-bb65-0716cf8d26c6"
      },
      "source": [
        "sns.heatmap(df_transaction_temp.corr(), cmap=\"PuBu\")\n",
        "plt.show()"
      ],
      "execution_count": null,
      "outputs": [
        {
          "output_type": "display_data",
          "data": {
            "image/png": "[encoded data removed]",
            "text/plain": [
              "<Figure size 720x432 with 2 Axes>"
            ]
          },
          "metadata": {
            "tags": [],
            "needs_background": "light"
          }
        }
      ]
    },
    {
      "cell_type": "markdown",
      "metadata": {
        "id": "YSsF8rKgCznH",
        "colab_type": "text"
      },
      "source": [
        "#### Divide data into training and test sets"
      ]
    },
    {
      "cell_type": "code",
      "metadata": {
        "id": "JTDXOFaqqc7d",
        "colab_type": "code",
        "colab": {}
      },
      "source": [
        "X = df_transaction_temp.loc[:, (df_transaction_temp.columns != 'salary')].copy()\n",
        "Y = df_transaction_temp.loc[:, (df_transaction_temp.columns == 'salary')].copy()"
      ],
      "execution_count": null,
      "outputs": []
    },
    {
      "cell_type": "code",
      "metadata": {
        "id": "xty6nsN-x1v1",
        "colab_type": "code",
        "colab": {
          "base_uri": "https://localhost:8080/",
          "height": 34
        },
        "outputId": "ac0d5c3e-6eaa-4231-91f0-3a093a8b1a48"
      },
      "source": [
        "X_train, X_test, Y_train, Y_test = train_test_split(X, Y, test_size=0.05, random_state=0)\n",
        "X_train.shape, X_test.shape, Y_train.shape, Y_test.shape"
      ],
      "execution_count": null,
      "outputs": [
        {
          "output_type": "execute_result",
          "data": {
            "text/plain": [
              "((95, 19), (5, 19), (95, 1), (5, 1))"
            ]
          },
          "metadata": {
            "tags": []
          },
          "execution_count": 42
        }
      ]
    },
    {
      "cell_type": "markdown",
      "metadata": {
        "id": "NwoLUn9s1hoW",
        "colab_type": "text"
      },
      "source": [
        "## 7. Linear Regression"
      ]
    },
    {
      "cell_type": "code",
      "metadata": {
        "id": "XRfJ9Ph9lWgg",
        "colab_type": "code",
        "colab": {
          "base_uri": "https://localhost:8080/",
          "height": 34
        },
        "outputId": "48c2762a-fe1f-4449-cd08-2d81ac7b650e"
      },
      "source": [
        "lr = LinearRegression()  \n",
        "lr.fit(X_train, Y_train)"
      ],
      "execution_count": null,
      "outputs": [
        {
          "output_type": "execute_result",
          "data": {
            "text/plain": [
              "LinearRegression(copy_X=True, fit_intercept=True, n_jobs=None, normalize=False)"
            ]
          },
          "metadata": {
            "tags": []
          },
          "execution_count": 43
        }
      ]
    },
    {
      "cell_type": "code",
      "metadata": {
        "id": "OAKrySJ3sHVo",
        "colab_type": "code",
        "colab": {}
      },
      "source": [
        "Y_pred = lr.predict(X_test)"
      ],
      "execution_count": null,
      "outputs": []
    },
    {
      "cell_type": "code",
      "metadata": {
        "id": "Rzioy0Gnuh3S",
        "colab_type": "code",
        "colab": {
          "base_uri": "https://localhost:8080/",
          "height": 34
        },
        "outputId": "8bc53f95-2d00-4874-b8b9-9e431a612e33"
      },
      "source": [
        "#rmse\n",
        "np.sqrt(metrics.mean_squared_error(Y_test, Y_pred))"
      ],
      "execution_count": null,
      "outputs": [
        {
          "output_type": "execute_result",
          "data": {
            "text/plain": [
              "10432.339198706657"
            ]
          },
          "metadata": {
            "tags": []
          },
          "execution_count": 45
        }
      ]
    },
    {
      "cell_type": "markdown",
      "metadata": {
        "id": "RZ9iYHRwT1m0",
        "colab_type": "text"
      },
      "source": [
        "## 8.Decision Tree Regressor"
      ]
    },
    {
      "cell_type": "code",
      "metadata": {
        "id": "AFDjTyPWS4le",
        "colab_type": "code",
        "colab": {}
      },
      "source": [
        "dtree = DecisionTreeRegressor(max_depth=4,\n",
        "                           min_samples_split=5,\n",
        "                           max_leaf_nodes=10,random_state=0)\n",
        "dtree = dtree.fit(X_train, Y_train)"
      ],
      "execution_count": null,
      "outputs": []
    },
    {
      "cell_type": "code",
      "metadata": {
        "id": "Djg1mDJbbliF",
        "colab_type": "code",
        "colab": {}
      },
      "source": [
        "Y_pred = dtree.predict(X_test)"
      ],
      "execution_count": null,
      "outputs": []
    },
    {
      "cell_type": "code",
      "metadata": {
        "id": "F3vPiTx1dXh2",
        "colab_type": "code",
        "colab": {
          "base_uri": "https://localhost:8080/",
          "height": 34
        },
        "outputId": "90510e66-ae3a-4038-fb7a-a540a8f7402c"
      },
      "source": [
        "np.sqrt(metrics.mean_squared_error(Y_test, Y_pred))"
      ],
      "execution_count": null,
      "outputs": [
        {
          "output_type": "execute_result",
          "data": {
            "text/plain": [
              "11297.282540049664"
            ]
          },
          "metadata": {
            "tags": []
          },
          "execution_count": 48
        }
      ]
    },
    {
      "cell_type": "markdown",
      "metadata": {
        "id": "73nYwVkH8C1I",
        "colab_type": "text"
      },
      "source": [
        "Hyperparameter tuning for getting least mse on training set "
      ]
    },
    {
      "cell_type": "code",
      "metadata": {
        "id": "g0RkpYrc2NOb",
        "colab_type": "code",
        "colab": {}
      },
      "source": [
        "param_grid = {\"criterion\": [\"mse\"],\n",
        "              \"min_samples_split\": [5, 10, 20, 40],\n",
        "              \"max_depth\": [2,4, 6, 8],\n",
        "              \"min_samples_leaf\": [10,20,40,100],\n",
        "              \"max_leaf_nodes\": [5,10, 20, 100],\n",
        "              }\n",
        "grid_cv_dtree = GridSearchCV(dtree, param_grid, cv=5)\n",
        "\n",
        "grid_cv_dtree = grid_cv_dtree.fit(X_train, Y_train)"
      ],
      "execution_count": null,
      "outputs": []
    },
    {
      "cell_type": "code",
      "metadata": {
        "id": "ihgmn8lf8pFV",
        "colab_type": "code",
        "colab": {
          "base_uri": "https://localhost:8080/",
          "height": 119
        },
        "outputId": "4f091a4f-37e8-4f39-c3f5-fee2e1d35b79"
      },
      "source": [
        "grid_cv_dtree.best_estimator_ # best estimator by using GridSearchCV"
      ],
      "execution_count": null,
      "outputs": [
        {
          "output_type": "execute_result",
          "data": {
            "text/plain": [
              "DecisionTreeRegressor(ccp_alpha=0.0, criterion='mse', max_depth=4,\n",
              "                      max_features=None, max_leaf_nodes=10,\n",
              "                      min_impurity_decrease=0.0, min_impurity_split=None,\n",
              "                      min_samples_leaf=10, min_samples_split=5,\n",
              "                      min_weight_fraction_leaf=0.0, presort='deprecated',\n",
              "                      random_state=0, splitter='best')"
            ]
          },
          "metadata": {
            "tags": []
          },
          "execution_count": 50
        }
      ]
    },
    {
      "cell_type": "code",
      "metadata": {
        "id": "3dckXq7C5jpE",
        "colab_type": "code",
        "colab": {
          "base_uri": "https://localhost:8080/",
          "height": 34
        },
        "outputId": "011773af-dc22-4754-c141-15729011fed1"
      },
      "source": [
        "Y_pred = grid_cv_dtree.best_estimator_.predict(X_test)\n",
        "np.sqrt(metrics.mean_squared_error(Y_test, Y_pred))"
      ],
      "execution_count": null,
      "outputs": [
        {
          "output_type": "execute_result",
          "data": {
            "text/plain": [
              "15184.67757974995"
            ]
          },
          "metadata": {
            "tags": []
          },
          "execution_count": 51
        }
      ]
    },
    {
      "cell_type": "code",
      "metadata": {
        "id": "M-wIYjYB8lXi",
        "colab_type": "code",
        "colab": {}
      },
      "source": [
        ""
      ],
      "execution_count": null,
      "outputs": []
    }
  ]
}